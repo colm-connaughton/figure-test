{
 "cells": [
  {
   "cell_type": "markdown",
   "metadata": {},
   "source": [
    "## An example interactive figure\n",
    "\n",
    "Let's create a function to generate some random walks and then plot them in a figure.\n",
    "\n",
    "\n",
    "First load relevant libraries. These need to be specified in the requirements.txt file for binder to know how to set up the correct python environment."
   ]
  },
  {
   "cell_type": "code",
   "execution_count": null,
   "metadata": {},
   "outputs": [],
   "source": [
    "# Check python version\n",
    "import sys\n",
    "print(\"Python is:\", sys.version)\n",
    "\n",
    "# Import matplotlib and numpy\n",
    "import matplotlib\n",
    "import matplotlib.pyplot as plt\n",
    "print(\"Matplotlib is:\", matplotlib.__version__)\n",
    "\n",
    "import numpy as np\n",
    "print(\"numpy is:\", np.__version__)"
   ]
  },
  {
   "cell_type": "code",
   "execution_count": null,
   "metadata": {},
   "outputs": [],
   "source": [
    "# Import some random number functions\n",
    "from random import seed\n",
    "from random import choice"
   ]
  },
  {
   "cell_type": "code",
   "execution_count": null,
   "metadata": {},
   "outputs": [],
   "source": [
    "# This function generates a random walk\n",
    "def random_walk(X0, nsteps):\n",
    "    X = np.zeros(nsteps)\n",
    "    X[0] = X0\n",
    "    for i in range(1,nsteps):\n",
    "        X[i] = X[i-1] + choice([-1.0,1.0])\n",
    "    return X"
   ]
  },
  {
   "cell_type": "code",
   "execution_count": null,
   "metadata": {},
   "outputs": [],
   "source": [
    "# seed random number generator\n",
    "#seed(1)\n",
    "\n",
    "# Generate some random walks\n",
    "N=20\n",
    "t = [i for i in range(0,N)]\n",
    "x1 = random_walk(0.0, N)\n",
    "x2 = random_walk(0.0, N)\n",
    "\n",
    "# Plot them on a figure\n",
    "fig, ax = plt.subplots()\n",
    "ax.plot(t,x1, label=\"x1\")\n",
    "ax.plot(t,x2, label=\"x2\")\n",
    "ax.set_xlabel(\"t\")\n",
    "ax.set_ylabel(\"x\")\n",
    "ax.legend()"
   ]
  }
 ],
 "metadata": {
  "kernelspec": {
   "display_name": "Python [conda env:3]",
   "language": "python",
   "name": "conda-env-3-py"
  },
  "language_info": {
   "codemirror_mode": {
    "name": "ipython",
    "version": 3
   },
   "file_extension": ".py",
   "mimetype": "text/x-python",
   "name": "python",
   "nbconvert_exporter": "python",
   "pygments_lexer": "ipython3",
   "version": "3.7.1"
  }
 },
 "nbformat": 4,
 "nbformat_minor": 2
}
